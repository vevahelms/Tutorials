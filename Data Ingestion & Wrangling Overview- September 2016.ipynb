{
 "cells": [
  {
   "cell_type": "markdown",
   "metadata": {},
   "source": [
    "# Data Ingestion and Wrangling Make-Up Assignment - September 2016\n",
    "\n",
    "### Completed by Veronica Helms as part of the [Georgetown Data Science Certificate Program](http://scs.georgetown.edu/programs/375/data-science/) "
   ]
  },
  {
   "cell_type": "markdown",
   "metadata": {},
   "source": [
    "## Part One: Short Answer"
   ]
  },
  {
   "cell_type": "markdown",
   "metadata": {},
   "source": [
    "### General"
   ]
  },
  {
   "cell_type": "markdown",
   "metadata": {},
   "source": [
    "**1. During the ingestion phase, it is important to store the data in as close its original form as possible.  No wrangling or changes should be made to data during this phase.  Why do you think this is an important point?**"
   ]
  },
  {
   "cell_type": "markdown",
   "metadata": {},
   "source": [
    "In the field of data science, it is best practice to keep ingested, raw data in its \"purest\" form. A core concept of data management, unmanipulated raw data storage is industry standard for many reasons. First, many programmers and analysts may have access to raw data sources. When multiple programmers have data access, it is important to note that mistakes can easily occur, especally when conducting mundane, repetitive tasks. These mistakes can unwillingly lead to incorrect data manipulation. By safeguarding raw data (i.e., allowing read but not write access to the original data), data integrity is ensured. Additionally, storing raw, unmanipulated data ensures research integrity and replicability. Storing original data allows for future access (i.e., study replication) and double coding processes."
   ]
  },
  {
   "cell_type": "markdown",
   "metadata": {},
   "source": [
    "### Worm Stores & Data Lakes"
   ]
  },
  {
   "cell_type": "markdown",
   "metadata": {},
   "source": [
    "**2. The process of ingestion is taking data from its source to its resting place in a WORM store.  The slides make reference to it being a safe place to store data as well as a starting point for the Wrangling process.  Please list and explain three properties of a WORM store that make it a safe place.**"
   ]
  },
  {
   "cell_type": "markdown",
   "metadata": {},
   "source": [
    "A write once read many (WORM) store is a safe place to store data for three primary reasons:\n",
    "1. First, a WORM store is a data storage platform in which data cannot be modified after written. By employing write protection, data cannot be tampered with after written to a WORM store. This safeguards the data. \n",
    "2. Second, WORM stores provide a safe place to store all relevant data sources for a project in a raw, unmanipulated form. As mentioned above, this ensures data and research integrity in a systematic manner. \n",
    "3. Lastly, WORM stores prevent accidental or intentional erasing or alteration of data. In summary, WORM stores represent safe places to store data. \n"
   ]
  },
  {
   "cell_type": "markdown",
   "metadata": {},
   "source": [
    "**3. The slides refer to a Data Lake as the WORM store for an entire business or organization.  With this in mind, please read Martin Fowler's post concerning Data Lakes at http://martinfowler.com/bliki/DataLake.html.  Then choose what you think are his three most important points and summarize them.**"
   ]
  },
  {
   "cell_type": "markdown",
   "metadata": {},
   "source": [
    "This question is really interesting because the government agency that I work for is currently developing a Data Lake. After reading Martin Fowler's post about Data Lakes, the following three points emerged as key points: \n",
    "\n",
    "1. I think Fowler's first point about diffentiating Data Lakes and data warehouses is important because data warehouses have been around for a long time. By immediately identifying key differences, Fowler both highlights the main advantages of a Data Lake while also educating the reader. In summary, perhaps the largest advantage of a Data Lake over traditional data warehousing is that Data Lakes allow for raw data storage in any form or schema. This allows for data users to utilize data is more realistic ways since data storage isnt limited to a single unified data model. \n",
    "\n",
    "2. I also appreciated how Fowler stressed the importance of clearly documenting the historical source (i.e. time and place) of all data put into a Data Lake. Although Data Lakes represent chaos, managers must promote organized chaos to ensure a historical record. \n",
    "\n",
    "3. Lastly, Fowler closes his piece by discussing data privacy and security. As a data analyst who works with large quantities of personally identifiable information (PII), this is an ongoing concern. As my organization works to develop a Data Lake, restricting access to a small group will be crucial. Additionally, as mentioned by Fowler, guidelines regarding accoutability must be established. "
   ]
  },
  {
   "cell_type": "markdown",
   "metadata": {},
   "source": [
    "**4. HDFS is an excellent tool for use as a WORM store due to its distributed nature and feature set.  Please choose three features of HDFS that support this and explain how they are useful.**"
   ]
  },
  {
   "cell_type": "markdown",
   "metadata": {},
   "source": [
    "Hadoop File System (HDFS) is an excellent tool for use as a WORM store. Three key features of HDFS include:\n",
    "\n",
    "1. *Scalability*: HDFS allows for multiple machines to act as a single file system. Additionally, the system breaks large files into pieces saved throughout the system - a process that ensures scalability and usability for big data. For example, the system has demonstrated capacity for holding 200 PB of data across a 4,500 machine cluster.\n",
    "2. *Fault-Tolerance*: With a user-friendly interface and easy administrative processes, HDFS is fault-tolerant. The system allows for concurrent access, a key feature for companies with complex data management structure. Lastly, since HDFS acts as a file system, it is rather intuitive. The distributed nature and redundant blocks of data allow for a very high level of fault tolerance.\n",
    "3. *Cost-Effectiveness*: HDFS is integrated with analytical tools, adding the cost-effectiveness of purchasing the system. Additionally, HDFS costs approximately one thousand dollars per terabyte. This translates to approximately 10% the cost of other data management systems. "
   ]
  },
  {
   "cell_type": "markdown",
   "metadata": {},
   "source": [
    "### Common Data Formats"
   ]
  },
  {
   "cell_type": "markdown",
   "metadata": {},
   "source": [
    "**5. Explain why CSVs are best for tabular data.  Then describe a means to store non-tabular data (such as hierarchichal data) in a CSV format.**"
   ]
  },
  {
   "cell_type": "markdown",
   "metadata": {},
   "source": [
    "The Character Seperated Value (CSV) format is best for tabular data for many reasons. Foremost, CSVs are widely supported and understood. Dating back to the 1960s, the simplified syntex of CSVs allows for easy human readability. Additionally, CSVs are well supported by desktop and server applications. For these reasons, CSVs are best for tabular data. \n",
    "\n",
    "A variety of Python packages/library can be used to store non-tabular data in a CSV format (i.e., csv and unicodecsv). For example, BeautifulSoup can convert HTML to a CSV."
   ]
  },
  {
   "cell_type": "markdown",
   "metadata": {},
   "source": [
    "**6. Provide two benefits for using JSON as a data format and then explain how these benefits have contributed to its quick adoption throughout the tech community.**"
   ]
  },
  {
   "cell_type": "markdown",
   "metadata": {},
   "source": [
    "Although newer than other formats, JSON has quickly been adopted throughout the tech community. Two benefits of using JSON include:\n",
    "1. *Conciseness*: JSON uses data objects and only supports limited data types: string, number, object, array, true, false, and null. Additionally, with roots in JavaScript, many techies already have rudimentary knowledge of the JSON format. \n",
    "2. *Human Readability*: Due to its simplified syntax, JSON is user friendly and easy to learn. Additionally, there is an official standard available. "
   ]
  },
  {
   "cell_type": "markdown",
   "metadata": {},
   "source": [
    "### Web APIs & REST"
   ]
  },
  {
   "cell_type": "markdown",
   "metadata": {},
   "source": [
    "**7. Providing web services is on of the more common means of sharing data these days making it a relatively common ingestion source.  Please find and list 3 NON RESTful web services that provide data in a JSON format.**"
   ]
  },
  {
   "cell_type": "markdown",
   "metadata": {},
   "source": [
    "The following three NON RESTful web services provide data in a JSON format: \n",
    "1. *JavaScript Object Notation Web-Service Protocol (JSON-WSP)*\n",
    "2. *Simple Object Access Protocol (SOAP)*\n",
    "3. *JSON SRV Library*"
   ]
  },
  {
   "cell_type": "markdown",
   "metadata": {},
   "source": [
    "**8. The HTTP protocol was covered in class in order to explain the underlying structure of RESTful endpoints.  Please describe the intended usage for the POST, GET, PUT, and DELETE HTTP verbs within a RESTful website.**"
   ]
  },
  {
   "cell_type": "markdown",
   "metadata": {},
   "source": [
    "There any many common HTTP verbs. The intended usage for the following verbs within a RESTful website are briefly described below. \n",
    "- **POST:** POST is utilized to create new resources. Specifically, POST creates subordinate resources (i.e. one that is dependent on a parent resource). It informs processing of the request body as a subordinate of the URL being posted to. \n",
    "- **GET:** As a read-only, GET is used to read a representation of a resource. It instructs the server to transmit data identified by the URL.  \n",
    "- **PUT:** PUT is used to for update capabilities. It is used when there is a need to create or update the resource identified by the URL. \n",
    "- **DELETE HTTP:** Consistent with its name, DELETE is used to delete a resource identified by the URL of the request. "
   ]
  },
  {
   "cell_type": "markdown",
   "metadata": {},
   "source": [
    "**9. Imagine you are responsible for developing the RESTful endpoints for an application dealing with the medical industry.  Provide a list of the endpoints needed to manage the details about physicians.  See the slide titled \"Interacting with Endpoints\" for an example.**"
   ]
  },
  {
   "cell_type": "markdown",
   "metadata": {},
   "source": [
    "Below is an example of RESTful endpoints for an application dealing with the medical industry. Specifically, it relates to physicians. \n",
    "\n",
    "GET /physicians: Returns a list of physicians. \n",
    "\n",
    "POST /physicians: Creates a new physician entry with the data posted. \n",
    "\n",
    "GET /physicians/: id: Gets detailed information about physicians. \n",
    "\n",
    "PUT /physicians/: id: Modifies information about a physician. \n",
    "\n",
    "DELETE /physicians/:id: Deletes a physician on the server. "
   ]
  },
  {
   "cell_type": "markdown",
   "metadata": {},
   "source": [
    "### Ingestion Systems"
   ]
  },
  {
   "cell_type": "markdown",
   "metadata": {},
   "source": [
    "**10. Stream processing vs Batch processing is an often discussed topic in ingestion systems.  Describe to a non-technical audience the difference between the two process models.**"
   ]
  },
  {
   "cell_type": "markdown",
   "metadata": {},
   "source": [
    "Put simply, there are two primary ingestion systems: (1) stream Processing and (2) batch Processing. Stream processing computes one data element (or a small subet of elements) while batch processing computes larger quantities of big data. Generally, stream processing handles simple data elements streamed singularly while batch processing handles more complex data streamed in groups for improved performance. Generally, stream processing is better for smaller datasets while batch processing is better for larger datasets. "
   ]
  },
  {
   "cell_type": "markdown",
   "metadata": {},
   "source": [
    "**11. Provide 2 examples of streaming data and explain why they should be considered streaming.**"
   ]
  },
  {
   "cell_type": "markdown",
   "metadata": {},
   "source": [
    "Streaming Data represents data that is generated continuously by thousands of data sources simultaneously. Streaming data includes a wide variety of data. Two examples of streaming data include: \n",
    "\n",
    "1. An online gaming company continuously collects player interaction data. As it calls streaming data, it simultaneously feeds data back into the online gaming interface. Using machine learning processes, the platform analyzes the data and offers player incentives and user-focused experiences. \n",
    "\n",
    "2. A coupon website (i.e., LivingSocial) tracking mobile device data and making recommendations based on users' geo-location and prior purchase history. "
   ]
  },
  {
   "cell_type": "markdown",
   "metadata": {},
   "source": [
    "**12. The slide titled \"Basic Ingestion Example\" list some reasons as to why using your single laptop to download a large dataset likely isn't the best choice.  Please provide two more reasons to support this argument.**"
   ]
  },
  {
   "cell_type": "markdown",
   "metadata": {},
   "source": [
    "In addition to the items listed on the \"Basic Ingestion Example\" slide, the following reasons also support the argument that a single laptop should not be used to download a large dataset. \n",
    "1. **Data Security:** What if the data contains personally identifiable information (PII)? Downloaded data should be downloaded to a secure location (likely not your laptop!). \n",
    "2. **Internet Speed**: What if your home internet speed is not fast enough to download the dataset? This could lead to increased (and unneccesary) lagtime. "
   ]
  },
  {
   "cell_type": "markdown",
   "metadata": {},
   "source": [
    "**13. Please provide brief descriptions of Apache Hadoop and Apache Spark.  Be sure to include the benefits of each as well as high level differences.**"
   ]
  },
  {
   "cell_type": "markdown",
   "metadata": {},
   "source": [
    "Although Apache Hadoop and Apache Spark are both big data platforms, they are very different. Note the key characteristics (and differences) of these two platforms below: \n",
    "\n",
    "* **Apache Hadoop:** \n",
    "  * Distributed data infrastructure\n",
    "  * Indexes data\n",
    "  * Resilient to system failures\n",
    "  * Contain a processing component called MapReduce\n",
    "\n",
    "* **Apache Spark:** \n",
    "  * Data-processing tool\n",
    "  * Operates on distributed data collections\n",
    "  * DOES NOT do distributed storage (does not have its own file management system) \n",
    "  * Faster than Hadoop \n",
    "  * Data objects stored in resilient distributed datasets but not neccesarily systematically resilient "
   ]
  },
  {
   "cell_type": "markdown",
   "metadata": {},
   "source": [
    "**14. Python Celery (http://www.celeryproject.org/) is a task/queue system for distributing work such as ingestion.  Please list some of the benefits of using this library and then describe a scenario where you might want to use it for ingestion purposes.**"
   ]
  },
  {
   "cell_type": "markdown",
   "metadata": {},
   "source": [
    "Python Celery is a task/queue system for distributing work such as ingestion. Benefits of using Celery include: \n",
    "* Focus on real-time operation \n",
    "* Support scheduling \n",
    "* Tasks are executed concurrently \n",
    "* Tasks can execute asynchronously or synchronously\n",
    "* Can process millions of tasks a day\n",
    "* Easy to integrate with web frameworks\n",
    "\n",
    "Celery if often used when traditional methods are not successful in creating an ingestion system. The library essentially allows a user to create their own ingestion system. "
   ]
  },
  {
   "cell_type": "markdown",
   "metadata": {},
   "source": [
    "## Part One: Coding Assignments"
   ]
  },
  {
   "cell_type": "markdown",
   "metadata": {},
   "source": [
    "### RSS Feed Ingestion"
   ]
  },
  {
   "cell_type": "markdown",
   "metadata": {},
   "source": [
    "**1. The first assignment involves RSS feeds as an ingestion source.  Using the provided template (https://gist.github.com/looselycoupled/8f6b0226e92f8e3a13c0), fill in the missing code to get the desired functionality.  When finished, your program should pull the New York Times RSS feed (url is provided) using the feedparser (https://pythonhosted.org/feedparser/introduction.html) library.  Then it should loop through each entry and download the HTML for the article using the Requests library.  Each entry contains a number of attributes - one of which will be the URL for the actual web page.  After the article is downloaded, the program should then save the file to disk. When saving to disk, use the title of the article (from the RSS entry object) as the filename.  Because this string may not be suitable for filenames, a function (slugify) has been provided which takes a string, and then returns a modified version which should be safe to use as a filename.  The \"open\" Python function is used to write data to disk and is well documented.  A common problem with this lab is that the HTML may contain invalid characters (UTF-8 vs ASCII).  To get around this you may need to use something like: \"f.write(content.encode('utf-8'))\"**"
   ]
  },
  {
   "cell_type": "code",
   "execution_count": 67,
   "metadata": {
    "collapsed": true
   },
   "outputs": [],
   "source": [
    "import os\n",
    "import re\n",
    "import requests as rqst\n",
    "import feedparser as fp"
   ]
  },
  {
   "cell_type": "code",
   "execution_count": 68,
   "metadata": {
    "collapsed": true
   },
   "outputs": [],
   "source": [
    "RSS_URL = 'http://rss.nytimes.com/services/xml/rss/nyt/HomePage.xml'"
   ]
  },
  {
   "cell_type": "code",
   "execution_count": 69,
   "metadata": {
    "collapsed": true
   },
   "outputs": [],
   "source": [
    "feed = fp.parse(RSS_URL)"
   ]
  },
  {
   "cell_type": "code",
   "execution_count": 70,
   "metadata": {
    "collapsed": false
   },
   "outputs": [
    {
     "name": "stdout",
     "output_type": "stream",
     "text": [
      "U.S. to Bar Arbitration Clauses in Nursing Home Contracts\n",
      "Congress Votes to Override Obama Veto on 9/11 Victims Bill\n",
      "Congress Approves Spending Bill, Averting Government Shutdown\n",
      "New Debate Strategy for Donald Trump: Practice, Practice, Practice\n",
      "Hillary Clinton Struggles to Win Back Young Voters From Third Parties\n",
      "Colin Kaepernick Says Presidential Candidates Were Trying to ‘Debate Who’s Less Racist’\n",
      "President and Michelle Obama Lash Out at Donald Trump\n",
      "‘She Has a Name,’ Alicia Machado, and It Is Everywhere\n",
      "Your Evening Briefing\n",
      "California Today: California Today: First-Day Jitters for Kevin Durant\n",
      "More Wealth, More Jobs, but Not for Everyone: What Fuels the Backlash on Trade\n",
      "Your Daily Mini Crossword\n",
      "Elvis Costello’s New York Soul\n",
      "\n",
      "The 2016 Race: If Your Vote Doesn’t Really Count, Is There Anything You Can Do?\n",
      "Contributing Op-Ed Writer: The One Question You Should Ask About Every New Job\n",
      "Life Without Shimon Peres? In Many Ways, His Israel Faded Long Ago\n",
      "Obama and Bill Clinton to Travel to Israel to Honor Shimon Peres\n",
      "Behind the Scenes With Shimon Peres\n",
      "Feature: Baltimore vs. Marilyn Mosby\n",
      "2 Men Who Found Unexploded Bomb in Chelsea Are Identified\n",
      "Fire Dept. Chief Killed in Bronx Blast Is Recalled as Family Man and ‘Rising Star’\n",
      "U.S. to Send 600 More Troops to Iraq to Help Retake Mosul From ISIS\n",
      "‘Mr. Wolf’ Sought to Fix Bridge Scandal, Ex-Christie Ally Testifies\n",
      "Teenager Held in Shootings That Kill Father and Injure 2 Students and a Teacher in South Carolina\n",
      "California Suspends Ties With Wells Fargo\n",
      "Dutch Inquiry Links Russia to 298 Deaths in Explosion of Jetliner Over Ukraine\n",
      "Tim Tebow Homers in First At-Bat (Finishes 1 for 6)\n",
      "What’s in Your Herbal Pills? Firm Promises DNA Testing for Proof\n",
      "A Look at Rihanna’s Fenty for Puma Collection\n",
      "Inside the Elaborate World of Gucci’s Shows\n",
      "State of the Art: A High-Stakes Bet: Turning Google Assistant Into a ‘Star Trek’ Computer\n",
      "Coachella Classic: A Festival for Rock Giants and Their Aging Fans\n",
      "Books of The Times: In ‘Hitler,’ an Ascent From ‘Dunderhead’ to Demagogue\n",
      "Agnes Nixon, Who Injected Social Ills Into Soap Operas, Dies at 93\n"
     ]
    }
   ],
   "source": [
    "def slugify():\n",
    "    \"\"\"\n",
    "    Converts to ASCII. Converts spaces to hyphens. Removes characters that\n",
    "    aren't alphanumerics, underscores, or hyphens. Converts to lowercase.\n",
    "    Also strips leading and trailing whitespace.\n",
    "    \"\"\"\n",
    "    value = feed.encode('ascii', 'ignore').decode('ascii')\n",
    "    value = re.sub('[^\\w\\s-]', '', value).strip().lower()\n",
    "    return re.sub('[-\\s]+', '-', value)\n",
    "\n",
    "def save_article(title):\n",
    "    \"\"\"\n",
    "    Save HTML content using a slugged version of the title as the basis for\n",
    "    the filename\n",
    "    \"\"\"\n",
    "    pass\n",
    "\n",
    "for entry in feed.entries:\n",
    "    print entry.title"
   ]
  },
  {
   "cell_type": "markdown",
   "metadata": {},
   "source": [
    "### RESTful Website Ingestion"
   ]
  },
  {
   "cell_type": "markdown",
   "metadata": {},
   "source": [
    "**2.  The second assignment involves downloading data from a RESTful website using the Requests library.  Specifically, you should provide the missing code in the https://gist.github.com/looselycoupled/5fd93fe80c39a24d64c1 template file.  Similar to the previous coding assignment, the goal is to download the 5 latest press releases from the U.S. Department of Justice REST web service and save each one to disk.  Documentation for the DOJ web service can be found at https://www.justice.gov/developer/api-documentation/api_v1.  The Requests documentation website should contain all of the explanations and example code you should need for this assignment. **"
   ]
  },
  {
   "cell_type": "code",
   "execution_count": 71,
   "metadata": {
    "collapsed": true
   },
   "outputs": [],
   "source": [
    "import os\n",
    "import json\n",
    "import requests"
   ]
  },
  {
   "cell_type": "code",
   "execution_count": 72,
   "metadata": {
    "collapsed": true
   },
   "outputs": [],
   "source": [
    "DOJ_RELEASES_URL = 'http://www.justice.gov/api/v1/press_releases.json?pagesize=5'"
   ]
  },
  {
   "cell_type": "code",
   "execution_count": 73,
   "metadata": {
    "collapsed": false
   },
   "outputs": [
    {
     "name": "stdout",
     "output_type": "stream",
     "text": [
      "{u'results': [{u'body': u'<root><div class=\"presscontenthdr-container\">\\n<div class=\"presscontenthdr-container\">\\n<div class=\"presscontenthdr\">\\n<p>WASHINGTON<strong> - </strong>INTERPOL Washington, the United States National Central Bureau (USNCB), announced the capture and return of Shilo Watts, 38, a United States citizen and resident of Atascosa County, Texas from Oman to the United States. Watts is wanted in Texas for charges of aggravated sexual assault of a minor, beginning when the minor was three years old and continuing over a prolonged period of time. In 2012, Watts fled the United States, resulting in the issuance of federal felony charge of unlawful flight to avoid prosecution.</p>\\n</div>\\n</div>\\n\\n<div class=\"presscontenttext\">\\n<p>In April, INTERPOL Washington expedited the publication of an INTERPOL Red Notice, or international wanted persons notice, for Watts based on the charges in Texas. The Red Notice was disseminated via INTERPOL\\'s network to its 190 member countries around the world. Based on the efforts of investigators from the U.S. Marshals Service (USMS) International Investigations Branch, USMS Western District of Texas, and the U.S. Department of State Bureau of Diplomatic Security Service, Watts\\' was traced to Oman where the INTERPOL Red Notice provided police with the authority to arrest and lawfully return Watts to the United States on May 15. Watts is currently in the custody of U.S. authorities and faces a maximum sentence of life in prison.</p>\\n\\n<p>INTERPOL Washington Director Shawn Bray stated, \\u201cThe capture of Shilo Watts is a great example of partnership between foreign, federal, state, and local law enforcement authorities, including the U.S. Marshals Service, Diplomatic Security Service, Office of International Affairs at the U.S. Department of Justice, and INTERPOL Washington. Through the close coordination of these authorities paired with the use of INTERPOL\\'s international resources, the U.S. Marshals Service and the Diplomatic Security Service located, arrested and returned Watts to face justice in Texas in a matter of days.\\u201d</p>\\n</div>\\n</div>\\n\\n<p>\\xa0</p>\\n</root>', u'uuid': u'8a0f7395-f556-45bf-8890-eeea2d0cbae0', u'created': u'1403814958', u'url': u'https://www.justice.gov/interpol-washington/pr/interpol-red-notice-facilitates-arrest-fugitive-sex-offender-wanted-texas', u'image': [], u'changed': u'1405004290', u'component': [{u'uuid': u'b0edea30-11f3-41fe-b5db-607f8f1174c8', u'name': u'Interpol Washington'}], u'number': None, u'topic': [], u'teaser': None, u'attachment': [], u'date': u'1368676800', u'title': u'INTERPOL Red Notice facilitates arrest of fugitive sex offender wanted in Texas', u'vuuid': u'e0e512ab-5662-437b-937f-279a086b83b0'}, {u'body': u'<root><p>WASHINGTON <strong>-</strong> A joint investigation between the National Oceanic and Atmospheric Administration (NOAA), the United States Coast Guard (USCG), and Interpol Washington (U.S. National Central Bureau) has led to the publication of the first-ever Interpol Purple Notice issued by the United States for a vessel believed to be engaged in illegal fishing activities.</p>\\n\\n<div class=\"presscontenthdr-container\">\\n<div class=\"presscontenttext\">\\n<p>According to the Purple Notice, the fishing vessel named \\'Stellar\\' was sighted twice in May 2014 operating on the high seas of the North Pacific Ocean by the USCG. It appears to change its name, national registration and other identifying characteristics in order to hide illegal activity. \\'Stellar\\' is suspected of engaging in illicit fisheries transshipment activities near the Russian Exclusive Economic Zone.</p>\\n\\n<p>\\'Stellar\\' was last known to have arrived in the port of Busan, Korea on June 3, 2014. The USCG provided information to the Korean authorities regarding the suspicious activities of \\'Stellar\\' and recommended the vessel be inspected for potential violations.</p>\\n\\n<p>\\u201cIllegal fisheries activity has a wide-ranging impact on the health and sustainability of the oceans fish stocks,\\u201d said Bruce Buckson, Director of NOAA\\'s Office of Law Enforcement. \\u201cWe\\'re pleased to be working with Interpol, its member agencies, and the U.S. Coast Guard to combat this type of activity. We expect this international effort will help level the playing field for U.S. domestic fishers.\\u201d</p>\\n\\n<p>\\u201cI commend NOAA, the USCG and Interpol Washington\\'s Economic Crimes Division representatives for their extraordinary efforts, collaboration and partnership during this investigation which has resulted in the first Interpol Purple Notice issued by U.S. law enforcement authorities,\\u201d stated Interpol Washington Director Shawn A. Bray.</p>\\n\\n<p>The United States wishes to make all 189 other Interpol member countries aware of the suspected illegal operations of the fishing vessel \\'Stellar\\' (also known as \\'Sungari\\'). By raising awareness of this vessel\\'s operations, member countries will be able to investigate possible violations of their laws and take appropriate enforcement measures should the vessel attempt to operate illegally in their waters or ports, or under their national jurisdiction.</p>\\n</div>\\n</div>\\n\\n<p>\\xa0</p>\\n</root>', u'uuid': u'8cfcfd04-dfce-4151-af30-38cc8394c8f6', u'created': u'1403814958', u'url': u'https://www.justice.gov/interpol-washington/pr/joint-law-enforcement-effort-leads-issuance-first-ever-interpol-purple-notice', u'image': [], u'changed': u'1404997474', u'component': [{u'uuid': u'b0edea30-11f3-41fe-b5db-607f8f1174c8', u'name': u'Interpol Washington'}], u'number': None, u'topic': [], u'teaser': None, u'attachment': [], u'date': u'1402545600', u'title': u'Joint Law Enforcement Effort Leads to Issuance of First Ever Interpol Purple Notice from the United States', u'vuuid': u'c851a16e-069d-46d5-ad1f-eb7e56f031c6'}, {u'body': u'<root><p>USDOJ: INTERPOL Washington: Updates</p>\\n\\n<div>\\xa0</div>\\n\\n<p><strong>Department of Justice</strong></p>\\n\\n<div class=\"presscontenthdr-container\">\\n<div class=\"presscontenthdr-container\">\\n<div class=\"presscontentsubhdr\">INTERPOL Washington</div>\\n\\n<div class=\"presscontentdatecontainer\">\\n<div class=\"presscontentdate\">\\n<div class=\"release\">FOR IMMEDIATE RELEASE</div>\\n\\n<div class=\"date\">Wednesday, March 19, 2014</div>\\n</div>\\n</div>\\n\\n<div class=\"presscontenttitle\">\\n<p><strong>Joint Law Enforcement Operation Leads to Return of Accused Argentine War Criminal Hiding in United States</strong></p>\\n</div>\\n</div>\\n\\n<div class=\"presscontenttext\">\\n<p>WASHINGTON <strong>-</strong> An exhaustive investigation spearheaded by INTERPOL Washington and the U.S. Marshals Service International Investigations Branch ended with one of Argentina\\'s most sought-after war criminals being located in Miami.</p>\\n\\n<p>In December 2013, INTERPOL Buenos Aires requested assistance from U.S. law enforcement officials in establishing the whereabouts of Rodolfo Adolfo Gimenez. A former Argentine military officer, Gimenez, is accused of committing atrocities against civilians during Argentina\\'s \\u201cdirty war\\u201d in the 1970s.</p>\\n\\n<p><img alt=\"Rodolfo Adolfo Gimenez\" src=\"/interpol-washington/news/images/news20140319.jpg\" style=\"float:right; height:275px\" />Knowing that an international arrest warrant would be forthcoming, Gimenez fled Argentina in October 2013, traveling through Chile and ultimately seeking safe haven in Florida. INTERPOL Washington and investigators from the U.S. Marshals Service subsequently determined Gimenez had taken refuge in a safe house situated well within the Spanish speaking community in Miami, where he believed that he could easily acclimatize and blend in.</p>\\n\\n<p>On Friday, at the request of INTERPOL Washington, U.S. Marshals Service personnel from the Southern District of Florida and agents from the Miami office of U.S. Immigration and Customs Enforcement - Homeland Security Investigations positively located and identified Gimenez and facilitated his removal from the United States back to Argentina. There, he was taken into custody by Argentine National Police representatives from INTERPOL Buenos Aires.</p>\\n\\n<p>\\u201cThis is an excellent example of U.S. law enforcement and the Argentina government working together to apprehend a wanted fugitive,\\u201d said Amos Rojas, U.S. Marshal for the Southern District of Florida. \\u201cThe Marshals Service is dedicated to pursuing all those who choose to flee rather than face justice.\\u201d</p>\\n\\n<p>According to the INTERPOL Red Notice and warrants of arrest issued by Federal Courts in Argentina, Gimenez is specifically implicated \\u201cin the unlawful imprisonment of 22 year old Juan Marcos Herman, a political activist in student circles and a member of the anti-military Peronist Youth Movement. In July 1977, Herman was kidnapped at gunpoint by a group of military personnel.\\u201d He was subsequently taken to a clandestine detention center in Buenos Aires where he was \\u201csubjected to repeated mental and physical torture, and relentless interrogation.\\u201d Herman was never again seen alive, and his remains have never been recovered. If convicted as charged, Gimenez faces life in prison.</p>\\n\\n<p>\\u201cI commend the work of all the law enforcement authorities involved in this investigation,\\u201d said INTERPOL Washington Director Shawn Bray. \\u201cThis is a great example of U.S. law enforcement agencies and their international partners sharing information to locate and bring criminals to justice. No matter how far and hard this fugitive ran he could not escape the coordinated international effort to locate him.\\u201d</p>\\n\\n<p>INTERPOL Washington credits the combined efforts of INTERPOL, INTERPOL Buenos Aires, the U.S. Marshals Service, U.S. Immigration and Customs Enforcement \\u2013 Homeland Security Investigations and Enforcement Removal Operations, U.S. Customs and Border Protection, U.S. Citizenship and Immigration Services, the Transportations Security Administration, the U.S. Department of State Bureau of Diplomatic Security, and the U.S. Department of Justice Office of International Affairs.</p>\\n</div>\\n</div>\\n\\n<p>\\xa0</p>\\n</root>', u'uuid': u'550d71d3-6171-4ca9-b290-5ce74389db71', u'created': u'1403814958', u'url': u'https://www.justice.gov/interpol-washington/pr/joint-law-enforcement-operation-leads-return-accused-argentine-war-criminal', u'image': [], u'changed': u'1404997693', u'component': [{u'uuid': u'b0edea30-11f3-41fe-b5db-607f8f1174c8', u'name': u'Interpol Washington'}], u'number': None, u'topic': [], u'teaser': None, u'attachment': [], u'date': u'1395201600', u'title': u'Joint Law Enforcement Operation Leads to Return of Accused Argentine War Criminal Hiding in United States', u'vuuid': u'4d485df0-686e-417e-895b-0d4824e42aa1'}, {u'body': u'<root><p>USDOJ: INTERPOL Washington: Updates</p>\\n\\n<div>\\xa0</div>\\n\\n<div class=\"presscontenthdr-container\">\\n<div class=\"presscontenthdr-container\">\\n<div class=\"presscontenthdr\">\\n<p><strong>Department of Justice</strong></p>\\n</div>\\n\\n<div class=\"presscontentsubhdr\">INTERPOL Washington</div>\\n\\n<div class=\"presscontentdatecontainer\">\\n<div class=\"presscontentdate\">\\n<div class=\"release\">FOR IMMEDIATE RELEASE</div>\\n\\n<div class=\"date\">Monday, March 12, 2014</div>\\n</div>\\n</div>\\n\\n<div class=\"presscontenttitle\">\\n<p><strong>INTERPOL Washington Director Shawn A. Bray Presents at the 2014 Symantec Government Symposium</strong></p>\\n</div>\\n</div>\\n\\n<div class=\"presscontenttext\">\\n<p>WASHINGTON <strong>-</strong> On Tuesday, March 11, 2014, Director Bray attended the annual Symantec Government Symposium where he presented on the topic \\u201cFighting Cybercrime in a Borderless World.\\u201d The theme for this year\\'s symposium was \\u201cResilient Security for Today\\'s World.\\u201d Other distinguished members of the panel included Department of Justice\\'s Principal Deputy Chief Richard Downing, Computer Crime and Intellectual Property; Catherine Lotrionte, Director of the Institute for Law, Science and Global Security from Georgetown University; and Senior Advisor for Cybercrime James Vigil, Bureau for International Narcotics and Law Enforcement Affairs at the Department of State. The Symantec Government Symposium is the world\\'s largest annual information security event for government audiences where the nation\\'s top IT leaders can discuss how government and industry can collaborate and best secure America\\'s critical infrastructure.</p>\\n</div>\\n</div>\\n\\n<p>\\xa0</p>\\n</root>', u'uuid': u'a11262bc-68aa-4444-890e-0397144fd174', u'created': u'1403814958', u'url': u'https://www.justice.gov/interpol-washington/pr/interpol-washington-director-shawn-bray-presents-2014-symantec-government', u'image': [], u'changed': u'1404997721', u'component': [{u'uuid': u'b0edea30-11f3-41fe-b5db-607f8f1174c8', u'name': u'Interpol Washington'}], u'number': None, u'topic': [], u'teaser': None, u'attachment': [], u'date': u'1394596800', u'title': u'INTERPOL Washington Director Shawn A. Bray Presents at the 2014 Symantec Government Symposium', u'vuuid': u'1df1d0ed-9fd0-477b-9b9f-6913adb209b9'}, {u'body': u'<root><p>WASHINGTON<strong> - </strong>The United States has extradited Sulejman Mujagic, a citizen of Bosnia and Herzegovina and a resident of Utica, New York, to stand trial in Bosnia for charges relating to the torture and murder of one prisoner of war and the torture of another during the armed conflict in Bosnia.</p>\\n\\n<div class=\"presscontenthdr-container\">\\n<div class=\"presscontenttext\">\\n<p><img alt=\"Sulejman Mujagic\" src=\"/interpol-washington/news/images/news20130603a.jpg\" style=\"float:right; height:350px\" />Acting Assistant Attorney General Mythili Raman of the Justice Department\\'s Criminal Division, U.S. Attorney Richard S. Hartunian of the Northern District of New York, and U.S. Immigration and Customs Enforcement (ICE) Director John Morton made the announcement.</p>\\n\\n<p>\\u201cThis extradition is the result of close cooperation between the U.S. and Bosnian authorities to bring alleged perpetrators of war crimes and torture in Bosnia to justice,\\u201d said Acting Assistant Attorney General Raman.</p>\\n\\n<p>\\u201cThrough the coordinated efforts of many law enforcement agencies and prosecutors, Sulejman Mujagic will stand trial in a Bosnian court for the alleged murder of an unarmed soldier and the torture of a second soldier,\\u201d said United States Attorney Hartunian. \\u201cThis case is a reflection of our steadfast commitment to support the rights of crime victims - wherever they are.\\u201d</p>\\n\\n<p>\\u201cFor the families who lost loved ones during the Bosnian war, justice has been a long time coming, but they can take some comfort in knowing that those responsible for this tragedy are now being held accountable for their crimes,\\u201d said ICE Director John Morton. \\u201cI applaud the outstanding work by Homeland Security Investigations (HSI) special agents in upstate New York, ICE\\'s Human Rights Violators and War Crimes Center, and our partners at the Department of Justice and Bosnia and Herzegovina authorities. Thanks to their efforts, Sulejman Mujagic will now face justice for his actions. We will continue to work tirelessly to ensure our country does not serve as a safe haven for human rights violators and others who have committed heinous acts.\\u201d</p>\\n\\n<p>Mujagic is being extradited to Bosnia to be tried for war crimes committed on or about March 6, 1995, during the armed conflict that followed the breakup of the former Yugoslavia. Bosnia has alleged that Mujagic, then a platoon commander in the Army of the Autonomous Province of Western Bosnia, summarily tortured and executed a disarmed Bosnian Army soldier and tortured a second soldier after the two prisoners had been captured by Mujagic and his men.</p>\\n\\n<p><img alt=\"Sulejman Mujagic\" src=\"/interpol-washington/news/images/news20130603b.jpg\" style=\"float:left; height:350px\" />In response to the Bosnian government\\'s request for extradition pursuant to the extradition treaty currently in force between the United States and Bosnia, the U.S. Department of Justice filed a complaint in U.S. federal district court on Nov. 27, 2012, and HSI special agents arrested Mujagic the next day in Utica, New York, for purposes of extradition.</p>\\n\\n<p>On April 2, 2013, the federal district court in the Northern District of New York ruled that Mujagic was subject to extradition to Bosnia to stand trial for the murder and torture of the two unarmed victims. On May 31, 2013, Mujagic was delivered to Bosnian authorities and removed from the United States. The Office of the Cantonal Prosecutor of the Una-Sana Canton in Bihac is handling Mujagic\\'s prosecution in Bosnia.</p>\\n\\n<p>Mujagic entered the United States in July 1997 and obtained status as a lawful permanent resident in March 2001. Mujagic does not retain U.S. citizenship.</p>\\n\\n<p>This case was investigated by HSI Buffalo, with assistance from the ICE Human Rights Violators and War Crimes Center and INTERPOL Washington. The case was handled by Trial Attorneys Ivana Nizich and Jay Bauer of the Human Rights and Special Prosecutions Section of the Justice Department\\'s Criminal Division and Assistant U.S. Attorney Carla Freedman of the Northern District of New York. The extradition was handled collaboratively with Criminal Division Trial Attorneys Ken Harris, Marcus Busch and Terry Schubert of the Office of International Affairs.</p>\\n\\n<p>The case was a result of the close cooperation between the U.S. and Bosnian authorities, particularly the Ministry of Internal Affairs and the Office of the Public Prosecutor of the Una-Sana Canton in Bihac, Bosnia.</p>\\n</div>\\n</div>\\n\\n<p>\\xa0</p>\\n</root>', u'uuid': u'806d5f8c-31c5-46de-9c11-91122484b091', u'created': u'1403814958', u'url': u'https://www.justice.gov/interpol-washington/pr/bosnian-national-extradited-stand-trial-murder-and-torture', u'image': [], u'changed': u'1405004132', u'component': [{u'uuid': u'b0edea30-11f3-41fe-b5db-607f8f1174c8', u'name': u'Interpol Washington'}], u'number': None, u'topic': [], u'teaser': None, u'attachment': [], u'date': u'1370232000', u'title': u'Bosnian National Extradited to Stand Trial for Murder and Torture', u'vuuid': u'0a59d0b6-27c0-4cfc-8865-ddf7a58a03a8'}], u'metadata': {u'executionTime': 0.063905000686646, u'resultset': {u'count': 75146, u'page': 0, u'pagesize': 5}, u'responseInfo': {u'status': 200, u'developerMessage': u'OK'}}}\n"
     ]
    }
   ],
   "source": [
    "def fetch_press_releases():\n",
    "    \"\"\"\n",
    "    Performs a GET on the DOJ web service and return the array found in the\n",
    "    'results' attribute of the JSON response\n",
    "    \"\"\"\n",
    "    # execute a GET request and store the results\n",
    "    r = requests.get('http://www.justice.gov/api/v1/press_releases.json?pagesize=5')\n",
    "    # decode as json and store the results\n",
    "    json_data = json.loads(r.text)\n",
    "    # return the 'results' array of press releases\n",
    "    print json_data\n",
    "    \n",
    "def main():\n",
    "    \"\"\"\n",
    "    Main execution function to perform required actions\n",
    "    \"\"\"\n",
    "    # fetch array of press releases\n",
    "    press_releases = fetch_press_releases()\n",
    "    \n",
    "##########################################################################\n",
    "## Execution\n",
    "##########################################################################\n",
    "if __name__ == '__main__':\n",
    "    main()"
   ]
  }
 ],
 "metadata": {
  "kernelspec": {
   "display_name": "Python 2",
   "language": "python",
   "name": "python2"
  },
  "language_info": {
   "codemirror_mode": {
    "name": "ipython",
    "version": 2
   },
   "file_extension": ".py",
   "mimetype": "text/x-python",
   "name": "python",
   "nbconvert_exporter": "python",
   "pygments_lexer": "ipython2",
   "version": "2.7.11"
  }
 },
 "nbformat": 4,
 "nbformat_minor": 0
}
